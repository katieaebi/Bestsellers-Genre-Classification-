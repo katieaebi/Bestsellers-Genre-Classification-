{
 "cells": [
  {
   "cell_type": "code",
   "id": "initial_id",
   "metadata": {
    "collapsed": true,
    "ExecuteTime": {
     "end_time": "2025-04-29T03:48:08.461635Z",
     "start_time": "2025-04-29T03:47:52.319966Z"
    }
   },
   "source": [
    "import selenium\n",
    "from selenium import webdriver\n",
    "from selenium.webdriver.common.by import By\n",
    "\n",
    "from selenium.webdriver.chrome.service import Service as ChromeService\n",
    "from webdriver_manager.chrome import ChromeDriverManager\n",
    "from selenium_stealth import stealth\n",
    "service = ChromeService(executable_path=ChromeDriverManager().install())\n",
    "\n",
    "from selenium.webdriver.support.ui import WebDriverWait\n",
    "from selenium.webdriver.support import expected_conditions as EC\n",
    "from selenium.common.exceptions import StaleElementReferenceException\n",
    "from selenium.common.exceptions import TimeoutException\n",
    "import os\n",
    "import pandas as pd"
   ],
   "outputs": [
    {
     "name": "stderr",
     "output_type": "stream",
     "text": [
      "/Users/katieaebi/Desktop/Data Science major/Senior Portfolio/NYT Indep. Study/.venv/lib/python3.9/site-packages/urllib3/__init__.py:35: NotOpenSSLWarning: urllib3 v2 only supports OpenSSL 1.1.1+, currently the 'ssl' module is compiled with 'LibreSSL 2.8.3'. See: https://github.com/urllib3/urllib3/issues/3020\n",
      "  warnings.warn(\n"
     ]
    }
   ],
   "execution_count": 1
  },
  {
   "metadata": {
    "ExecuteTime": {
     "end_time": "2025-04-29T03:48:58.227169Z",
     "start_time": "2025-04-29T03:48:57.711373Z"
    }
   },
   "cell_type": "code",
   "source": [
    "data = {}\n",
    "for i, category in enumerate(os.listdir(os.path.join('.', '2023_bestsellers'))): \n",
    "    data[category[:-4]] = pd.read_csv(os.path.join('.', '2023_bestsellers', category))"
   ],
   "id": "eff9b8f4ad7ac184",
   "outputs": [],
   "execution_count": 3
  },
  {
   "metadata": {
    "ExecuteTime": {
     "end_time": "2025-04-29T03:52:37.852299Z",
     "start_time": "2025-04-29T03:52:21.492037Z"
    }
   },
   "cell_type": "code",
   "source": [
    "driver = webdriver.Chrome()\n",
    "wait = WebDriverWait(driver, 30)\n",
    "driver.get('https://www.goodreads.com/')\n",
    "wait.until(lambda d: driver.execute_script(\"return document.readyState\") == \"complete\")\n",
    "assert 'Goodreads' in driver.title\n",
    "signin_button = driver.find_element(By.XPATH, '//*[@id=\"signIn\"]/div/div/a')\n",
    "signin_button.click()"
   ],
   "id": "8d4fc52ca5b5de5",
   "outputs": [],
   "execution_count": 10
  },
  {
   "metadata": {
    "ExecuteTime": {
     "end_time": "2025-04-29T03:52:53.317304Z",
     "start_time": "2025-04-29T03:52:45.620317Z"
    }
   },
   "cell_type": "code",
   "source": [
    "assert 'Sign in' in driver.title\n",
    "email_button = driver.find_element(By.CLASS_NAME, \"authPortalSignInButton\")\n",
    "email_button.click()"
   ],
   "id": "fb6134469aa9278f",
   "outputs": [],
   "execution_count": 11
  },
  {
   "metadata": {
    "ExecuteTime": {
     "end_time": "2025-04-29T03:52:59.950263Z",
     "start_time": "2025-04-29T03:52:59.058815Z"
    }
   },
   "cell_type": "code",
   "source": [
    "email_input = driver.find_element(By.XPATH, '//*[@id=\"ap_email\"]')\n",
    "password_input = driver.find_element(By.XPATH, '//*[@id=\"ap_password\"]')\n",
    "email_input.send_keys('______')\n",
    "password_input.send_keys('_______')\n",
    "driver.find_element(By.XPATH, '//*[@id=\"signInSubmit\"]').click()"
   ],
   "id": "7cde2c3ad0eed6a",
   "outputs": [],
   "execution_count": 12
  },
  {
   "metadata": {},
   "cell_type": "code",
   "outputs": [],
   "execution_count": null,
   "source": [
    "############# testing navigation for loop: searching ###################\n",
    "search_input = driver.find_element(By.CSS_SELECTOR, \"input.searchBox__input.searchBox__input--navbar[placeholder='Search books'][aria-label='Search books']\")\n",
    "search_input.send_keys('9780525560654')\n",
    "driver.find_element(By.CSS_SELECTOR, \"button.searchBox__icon--magnifyingGlass.gr-iconButton.searchBox__icon.searchBox__icon--navbar[aria-label='Search']\").click()"
   ],
   "id": "a6d87fa0529aac37"
  },
  {
   "metadata": {},
   "cell_type": "code",
   "outputs": [],
   "execution_count": null,
   "source": [
    "############# testing navigation for loop: genres ###################\n",
    "genres_container = driver.find_element(By.CSS_SELECTOR, \"ul.CollapsableList\")\n",
    "genres_elements = genres_container.find_elements(By.CSS_SELECTOR, \".Button__labelItem\")\n",
    "genre_labels = []\n",
    "for i, element in enumerate(genres_elements):\n",
    "    if element.text != \"...more\":\n",
    "        genre_labels.append(element.text)\n",
    "print(genre_labels)"
   ],
   "id": "2cb1261fb27f7665"
  },
  {
   "metadata": {},
   "cell_type": "code",
   "outputs": [],
   "execution_count": null,
   "source": [
    "############# testing navigation for loop: descriptions ###################\n",
    "driver.find_element(By.CSS_SELECTOR, '.Button[aria-label=\"Tap to show more book description\"]').click() #click show more\n",
    "description = driver.find_element(By.CSS_SELECTOR, \"span.Formatted\") # find description\n",
    "print(description.text)"
   ],
   "id": "8f31c0d41adad9b1"
  },
  {
   "metadata": {},
   "cell_type": "code",
   "outputs": [],
   "execution_count": null,
   "source": "print(data['category']['hardcover-fiction_2023']['author'][0])",
   "id": "8b6d9cf755f16645"
  },
  {
   "metadata": {},
   "cell_type": "code",
   "outputs": [],
   "execution_count": null,
   "source": [
    "############# testing navigation for loop: author-bios ###################\n",
    "author_name = data['category']['hardcover-fiction_2023']['author'][0]\n",
    "author_page = driver.find_element(By.LINK_TEXT, author_name).get_property('href')\n",
    "driver.get(author_page)"
   ],
   "id": "93dc56651d98ff1"
  },
  {
   "metadata": {},
   "cell_type": "code",
   "outputs": [],
   "execution_count": null,
   "source": [
    "############# testing navigation for loop: author-bios ###################\n",
    "born_element = driver.find_element(By.XPATH, \"//div[@class='dataTitle' and text()='Born']\")\n",
    "print(born_element.get_property('nextSibling')['data'])\n",
    "print(born_element.get_property('textContent'))"
   ],
   "id": "729475bb86486051"
  },
  {
   "metadata": {},
   "cell_type": "code",
   "outputs": [],
   "execution_count": null,
   "source": "driver.back()",
   "id": "3dc852c61a441f48"
  },
  {
   "metadata": {},
   "cell_type": "code",
   "outputs": [],
   "execution_count": null,
   "source": [
    "isbn_genre_data = {}\n",
    "wait = WebDriverWait(driver, 10)\n",
    "for i, category in enumerate(data.keys()):\n",
    "    current_list = data[category]\n",
    "    print(category)\n",
    "    for j, ISBN in enumerate(current_list['primary_isbn13'].unique()): #loop through unique ISBNs for processing efficiency\n",
    "        print(ISBN)\n",
    "        search_input = wait.until(EC.element_to_be_clickable((By.CSS_SELECTOR, \"input.searchBox__input.searchBox__input--navbar[placeholder='Search books'][aria-label='Search books']\")))\n",
    "        search_input.send_keys(str(ISBN)) #search for book by ISBN\n",
    "        try:\n",
    "            wait.until(EC.element_to_be_clickable((By.CSS_SELECTOR, \"button.searchBox__icon--magnifyingGlass.gr-iconButton.searchBox__icon.searchBox__icon--navbar[aria-label='Search']\"))).click() #click search button \n",
    "        except StaleElementReferenceException: \n",
    "            search_button = wait.until(EC.element_to_be_clickable((By.CSS_SELECTOR, \"button.searchBox__icon--magnifyingGlass.gr-iconButton.searchBox__icon.searchBox__icon--navbar[aria-label='Search']\")))\n",
    "            search_button.click()\n",
    "        \n",
    "        wait.until(lambda d: driver.execute_script(\"return document.readyState\") == \"complete\")\n",
    "        \n",
    "        if len(data[category]['description'][data[category]['description'].isna() == True]) > 0:\n",
    "            wait.until(EC.element_to_be_clickable((By.CSS_SELECTOR, \".Button[aria-label='Tap to show more book description']\"))).click() #click show more\n",
    "            description = wait.until(EC.presence_of_element_located((By.CSS_SELECTOR, \"span.Formatted\"))) # find description\n",
    "            #assigning the description everywhere this ISBN appears on the list \n",
    "            data['category'][category].loc[data['category'][category]['primary_isbn13'] == ISBN, 'description'] = description.text \n",
    "            print('got description!')\n",
    "        try:\n",
    "            genres_container = wait.until(EC.presence_of_element_located((By.CSS_SELECTOR, \"ul.CollapsableList\")))\n",
    "            genres_elements = wait.until(lambda d: genres_container.find_elements(By.CSS_SELECTOR, \".Button__labelItem\"))       \n",
    "            genre_labels = []\n",
    "            for e, element in enumerate(genres_elements):\n",
    "                if element.text != \"...more\":\n",
    "                    genre_labels.append(element.text)\n",
    "            isbn_genre_data[ISBN] = genre_labels\n",
    "            print('got genres!')\n",
    "        except StaleElementReferenceException:\n",
    "            \n",
    "        \n",
    "        driver.back()\n",
    "        wait.until(lambda d: driver.execute_script(\"return document.readyState\") == \"complete\")\n",
    "        assert 'Goodreads' in driver.title\n",
    "            "
   ],
   "id": "66795c0cedce23c8"
  },
  {
   "metadata": {},
   "cell_type": "code",
   "outputs": [],
   "execution_count": null,
   "source": "driver.quit()",
   "id": "40e54edf0825833c"
  }
 ],
 "metadata": {
  "kernelspec": {
   "display_name": "Python 3",
   "language": "python",
   "name": "python3"
  },
  "language_info": {
   "codemirror_mode": {
    "name": "ipython",
    "version": 2
   },
   "file_extension": ".py",
   "mimetype": "text/x-python",
   "name": "python",
   "nbconvert_exporter": "python",
   "pygments_lexer": "ipython2",
   "version": "2.7.6"
  }
 },
 "nbformat": 4,
 "nbformat_minor": 5
}
